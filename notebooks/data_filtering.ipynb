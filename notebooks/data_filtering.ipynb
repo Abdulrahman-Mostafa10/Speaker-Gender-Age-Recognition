{
 "cells": [
  {
   "cell_type": "code",
   "execution_count": 1,
   "id": "984ba0d8",
   "metadata": {},
   "outputs": [],
   "source": [
    "import os\n",
    "import librosa\n",
    "import shutil\n",
    "from tqdm import tqdm\n",
    "import numpy as np"
   ]
  },
  {
   "cell_type": "code",
   "execution_count": null,
   "id": "38bd9639",
   "metadata": {},
   "outputs": [],
   "source": [
    "BASE_INPUT_DIR = \"../data_raw\"\n",
    "OUTPUT_DIR = \"../data_filtered\"\n",
    "SUPPORTED_EXTENSIONS = (\n",
    "    \".wav\",\n",
    "    \".mp3\",\n",
    ")"
   ]
  },
  {
   "cell_type": "code",
   "execution_count": 3,
   "id": "f018656d",
   "metadata": {},
   "outputs": [],
   "source": [
    "# Create output directory if it doesn't exist\n",
    "os.makedirs(OUTPUT_DIR, exist_ok=True)"
   ]
  },
  {
   "cell_type": "code",
   "execution_count": 4,
   "id": "89508a17",
   "metadata": {},
   "outputs": [],
   "source": [
    "def is_audio_valid(file_path):\n",
    "    try:\n",
    "        audio, sr = librosa.load(file_path, sr=None)\n",
    "        if len(audio) < 100 or np.all(audio == 0):\n",
    "            return False\n",
    "        return True\n",
    "    except Exception as e:\n",
    "        print(f\"Error loading {file_path}: {str(e)}\")\n",
    "        return False"
   ]
  },
  {
   "cell_type": "code",
   "execution_count": 5,
   "id": "7b1d4d21",
   "metadata": {},
   "outputs": [],
   "source": [
    "def process_batch(batch_dir, output_dir):\n",
    "    valid_files = []\n",
    "    corrupted_files = []\n",
    "\n",
    "    if not os.path.exists(batch_dir):\n",
    "        print(f\"Directory {batch_dir} does not exist.\")\n",
    "        return valid_files, corrupted_files\n",
    "\n",
    "    files = [\n",
    "        f for f in os.listdir(batch_dir) if f.lower().endswith(SUPPORTED_EXTENSIONS)\n",
    "    ]\n",
    "\n",
    "    # Process each file with progress bar\n",
    "    for file in tqdm(files, desc=f\"Processing {os.path.basename(batch_dir)}\"):\n",
    "        file_path = os.path.join(batch_dir, file)\n",
    "\n",
    "        # Check file size (optional additional check)\n",
    "        if os.path.getsize(file_path) < 1024:  # Less than 1KB is suspicious\n",
    "            corrupted_files.append(file_path)\n",
    "            continue\n",
    "\n",
    "        if is_audio_valid(file_path):\n",
    "            output_path = os.path.join(output_dir, file)\n",
    "            base, ext = os.path.splitext(file)\n",
    "            counter = 1\n",
    "            while os.path.exists(output_path):\n",
    "                output_path = os.path.join(output_dir, f\"{base}_{counter}{ext}\")\n",
    "                counter += 1\n",
    "            shutil.copy2(file_path, output_path)\n",
    "            valid_files.append(file_path)\n",
    "        else:\n",
    "            corrupted_files.append(file_path)\n",
    "\n",
    "    return valid_files, corrupted_files"
   ]
  },
  {
   "cell_type": "code",
   "execution_count": 6,
   "id": "6381ff4f",
   "metadata": {},
   "outputs": [
    {
     "name": "stdout",
     "output_type": "stream",
     "text": [
      "\n",
      "Processing data...\n"
     ]
    },
    {
     "name": "stderr",
     "output_type": "stream",
     "text": [
      "Processing data: 100%|██████████| 209791/209791 [19:30<00:00, 179.30it/s]  "
     ]
    },
    {
     "name": "stdout",
     "output_type": "stream",
     "text": [
      "Summary:\n",
      "Valid files: 172158\n",
      "Corrupted files: 37633\n",
      "\n",
      "Final Summary:\n",
      "Total valid files copied: 172158\n",
      "Total corrupted files: 37633\n"
     ]
    },
    {
     "name": "stderr",
     "output_type": "stream",
     "text": [
      "\n"
     ]
    }
   ],
   "source": [
    "all_valid_files = []\n",
    "all_corrupted_files = []\n",
    "\n",
    "# Process each batch directory\n",
    "batch_dir = os.path.join(BASE_INPUT_DIR)\n",
    "print(f\"\\nProcessing data...\")\n",
    "valid_files, corrupted_files = process_batch(batch_dir, OUTPUT_DIR)\n",
    "all_valid_files.extend(valid_files)\n",
    "all_corrupted_files.extend(corrupted_files)\n",
    "# Print summary for this batch\n",
    "print(f\"Summary:\")\n",
    "print(f\"Valid files: {len(valid_files)}\")\n",
    "print(f\"Corrupted files: {len(corrupted_files)}\")\n",
    "\n",
    "# Print final summary\n",
    "print(\"\\nFinal Summary:\")\n",
    "print(f\"Total valid files copied: {len(all_valid_files)}\")\n",
    "print(f\"Total corrupted files: {len(all_corrupted_files)}\")\n",
    "\n",
    "# Optionally save lists of valid and corrupted files\n",
    "with open(os.path.join(OUTPUT_DIR, \"valid_files.txt\"), \"w\") as f:\n",
    "    f.write(\"\\n\".join(all_valid_files))\n",
    "with open(os.path.join(OUTPUT_DIR, \"corrupted_files.txt\"), \"w\") as f:\n",
    "    f.write(\"\\n\".join(all_corrupted_files))"
   ]
  }
 ],
 "metadata": {
  "kernelspec": {
   "display_name": "ML",
   "language": "python",
   "name": "python3"
  },
  "language_info": {
   "codemirror_mode": {
    "name": "ipython",
    "version": 3
   },
   "file_extension": ".py",
   "mimetype": "text/x-python",
   "name": "python",
   "nbconvert_exporter": "python",
   "pygments_lexer": "ipython3",
   "version": "3.12.9"
  }
 },
 "nbformat": 4,
 "nbformat_minor": 5
}
